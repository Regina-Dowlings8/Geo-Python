{
  "cells": [
    {
      "cell_type": "code",
      "execution_count": 28,
      "metadata": {
        "trusted": true
      },
      "outputs": [
        {
          "data": {
            "text/plain": [
              "1.0"
            ]
          },
          "execution_count": 28,
          "metadata": {},
          "output_type": "execute_result"
        }
      ],
      "source": [
        "1. # Problem 1 concerns the locations of shopping centres: find their addresses and translate them into coordinates. Find out the addresses of the \n",
        "# following shopping centres (e.g., by using your favourite search engine), and collect them in a text file called shopping_centres.txt: Itis Forum \n",
        "# Iso-omena Sello Jumbo REDI Tripla. The text file should be in semicolon-separated format (;) and include the following columns: id (integer) a unique \n",
        "# identifier for each shopping centre (a name (string) of each shopping center addr (string) the address\n",
        "\n",
        "\n",
        "# The text file was created in excel and saved as shopping_centres.csv into the learning_gis/Exercises directory"
      ]
    },
    {
      "cell_type": "code",
      "execution_count": null,
      "metadata": {},
      "outputs": [],
      "source": []
    },
    {
      "cell_type": "code",
      "execution_count": 29,
      "metadata": {},
      "outputs": [
        {
          "data": {
            "text/plain": [
              "2.0"
            ]
          },
          "execution_count": 29,
          "metadata": {},
          "output_type": "execute_result"
        }
      ],
      "source": [
        "2. # Read the list of addresses you just prepared into a pandas.DataFrame called shopping_centres"
      ]
    },
    {
      "cell_type": "code",
      "execution_count": 30,
      "metadata": {},
      "outputs": [
        {
          "data": {
            "text/html": [
              "<div>\n",
              "<style scoped>\n",
              "    .dataframe tbody tr th:only-of-type {\n",
              "        vertical-align: middle;\n",
              "    }\n",
              "\n",
              "    .dataframe tbody tr th {\n",
              "        vertical-align: top;\n",
              "    }\n",
              "\n",
              "    .dataframe thead th {\n",
              "        text-align: right;\n",
              "    }\n",
              "</style>\n",
              "<table border=\"1\" class=\"dataframe\">\n",
              "  <thead>\n",
              "    <tr style=\"text-align: right;\">\n",
              "      <th></th>\n",
              "      <th>ID</th>\n",
              "      <th>NAME</th>\n",
              "      <th>ADDRESS</th>\n",
              "    </tr>\n",
              "  </thead>\n",
              "  <tbody>\n",
              "    <tr>\n",
              "      <th>0</th>\n",
              "      <td>100</td>\n",
              "      <td>Itis'</td>\n",
              "      <td>Itäkatu 1-7 00930 Helsinki Finland'</td>\n",
              "    </tr>\n",
              "    <tr>\n",
              "      <th>1</th>\n",
              "      <td>200</td>\n",
              "      <td>Forum'</td>\n",
              "      <td>Mannerheimintie 20 00100 Helsinki'</td>\n",
              "    </tr>\n",
              "    <tr>\n",
              "      <th>2</th>\n",
              "      <td>300</td>\n",
              "      <td>Iso-Omena'</td>\n",
              "      <td>Piispansilta 11 FIN-02230 ESPOO'</td>\n",
              "    </tr>\n",
              "    <tr>\n",
              "      <th>3</th>\n",
              "      <td>400</td>\n",
              "      <td>Sello'</td>\n",
              "      <td>Leppävaarankatu 3-9 02600 Espoo Finland'</td>\n",
              "    </tr>\n",
              "    <tr>\n",
              "      <th>4</th>\n",
              "      <td>500</td>\n",
              "      <td>Jumbo'</td>\n",
              "      <td>Vantaanportinkatu 3 01510 Vantaa Finland'</td>\n",
              "    </tr>\n",
              "    <tr>\n",
              "      <th>5</th>\n",
              "      <td>600</td>\n",
              "      <td>REDI'</td>\n",
              "      <td>Hermannin rantatie 5 00580 Helsinki Finland'</td>\n",
              "    </tr>\n",
              "    <tr>\n",
              "      <th>6</th>\n",
              "      <td>700</td>\n",
              "      <td>Tripla'</td>\n",
              "      <td>Fredikanterassi 1 00520 Helsinki Finland'</td>\n",
              "    </tr>\n",
              "  </tbody>\n",
              "</table>\n",
              "</div>"
            ],
            "text/plain": [
              "    ID        NAME                                       ADDRESS\n",
              "0  100       Itis'           Itäkatu 1-7 00930 Helsinki Finland'\n",
              "1  200      Forum'            Mannerheimintie 20 00100 Helsinki'\n",
              "2  300  Iso-Omena'              Piispansilta 11 FIN-02230 ESPOO'\n",
              "3  400      Sello'      Leppävaarankatu 3-9 02600 Espoo Finland'\n",
              "4  500      Jumbo'     Vantaanportinkatu 3 01510 Vantaa Finland'\n",
              "5  600       REDI'  Hermannin rantatie 5 00580 Helsinki Finland'\n",
              "6  700     Tripla'     Fredikanterassi 1 00520 Helsinki Finland'"
            ]
          },
          "execution_count": 30,
          "metadata": {},
          "output_type": "execute_result"
        }
      ],
      "source": [
        "import pandas as pd\n",
        "\n",
        "\n",
        "shopping_centres = pd.read_csv(r'C:\\Users\\acer\\Documents\\projects\\learning_gis\\Exercises\\shopping_centres.csv')\n",
        "shopping_centres"
      ]
    },
    {
      "cell_type": "code",
      "execution_count": null,
      "metadata": {},
      "outputs": [],
      "source": []
    },
    {
      "cell_type": "code",
      "execution_count": 31,
      "metadata": {},
      "outputs": [
        {
          "data": {
            "text/plain": [
              "3.0"
            ]
          },
          "execution_count": 31,
          "metadata": {},
          "output_type": "execute_result"
        }
      ],
      "source": [
        "3. # Geocode the addresses using the Nominatim geocoding service. Join the results with the input data, and store them in a geopandas.GeoDataFrame with\n",
        "# the same name (shopping_centres). Check that the coordinate reference system of the geocoded result is correctly defined, and reproject the \n",
        "# layer into ETRS GK-25 (EPSG:3879):"
      ]
    },
    {
      "cell_type": "code",
      "execution_count": 32,
      "metadata": {},
      "outputs": [
        {
          "data": {
            "text/html": [
              "<div>\n",
              "<style scoped>\n",
              "    .dataframe tbody tr th:only-of-type {\n",
              "        vertical-align: middle;\n",
              "    }\n",
              "\n",
              "    .dataframe tbody tr th {\n",
              "        vertical-align: top;\n",
              "    }\n",
              "\n",
              "    .dataframe thead th {\n",
              "        text-align: right;\n",
              "    }\n",
              "</style>\n",
              "<table border=\"1\" class=\"dataframe\">\n",
              "  <thead>\n",
              "    <tr style=\"text-align: right;\">\n",
              "      <th></th>\n",
              "      <th>geometry</th>\n",
              "      <th>address</th>\n",
              "    </tr>\n",
              "  </thead>\n",
              "  <tbody>\n",
              "    <tr>\n",
              "      <th>0</th>\n",
              "      <td>POINT (25.07908 60.21027)</td>\n",
              "      <td>Huoneistokeskus, 1-7, Itäkatu, Itäkeskus, Vart...</td>\n",
              "    </tr>\n",
              "    <tr>\n",
              "      <th>1</th>\n",
              "      <td>POINT (24.93801 60.16937)</td>\n",
              "      <td>Carlings, 20, Mannerheimintie, Keskusta, Kluuv...</td>\n",
              "    </tr>\n",
              "    <tr>\n",
              "      <th>2</th>\n",
              "      <td>POINT EMPTY</td>\n",
              "      <td>None</td>\n",
              "    </tr>\n",
              "    <tr>\n",
              "      <th>3</th>\n",
              "      <td>POINT (24.81150 60.21812)</td>\n",
              "      <td>Bik Bok, 3-9, Leppävaarankatu, Säteri, Etelä-L...</td>\n",
              "    </tr>\n",
              "    <tr>\n",
              "      <th>4</th>\n",
              "      <td>POINT (24.96282 60.29245)</td>\n",
              "      <td>Stockmann, 3, Vantaanportinkatu, Vantaanportti...</td>\n",
              "    </tr>\n",
              "    <tr>\n",
              "      <th>5</th>\n",
              "      <td>POINT (24.97999 60.18670)</td>\n",
              "      <td>JYSK, 5, Hermannin rantatie, Verkkosaari, Kala...</td>\n",
              "    </tr>\n",
              "    <tr>\n",
              "      <th>6</th>\n",
              "      <td>POINT (24.93136 60.19821)</td>\n",
              "      <td>Original Sokos Hotel Tripla, 1, Fredikanterass...</td>\n",
              "    </tr>\n",
              "  </tbody>\n",
              "</table>\n",
              "</div>"
            ],
            "text/plain": [
              "                    geometry  \\\n",
              "0  POINT (25.07908 60.21027)   \n",
              "1  POINT (24.93801 60.16937)   \n",
              "2                POINT EMPTY   \n",
              "3  POINT (24.81150 60.21812)   \n",
              "4  POINT (24.96282 60.29245)   \n",
              "5  POINT (24.97999 60.18670)   \n",
              "6  POINT (24.93136 60.19821)   \n",
              "\n",
              "                                             address  \n",
              "0  Huoneistokeskus, 1-7, Itäkatu, Itäkeskus, Vart...  \n",
              "1  Carlings, 20, Mannerheimintie, Keskusta, Kluuv...  \n",
              "2                                               None  \n",
              "3  Bik Bok, 3-9, Leppävaarankatu, Säteri, Etelä-L...  \n",
              "4  Stockmann, 3, Vantaanportinkatu, Vantaanportti...  \n",
              "5  JYSK, 5, Hermannin rantatie, Verkkosaari, Kala...  \n",
              "6  Original Sokos Hotel Tripla, 1, Fredikanterass...  "
            ]
          },
          "execution_count": 32,
          "metadata": {},
          "output_type": "execute_result"
        }
      ],
      "source": [
        "import geopandas as gpd\n",
        "\n",
        "# geocodes the addresses using nominatim service\n",
        "\n",
        "geocoded_address = gpd.tools.geocode(\n",
        "    shopping_centres['ADDRESS'],\n",
        "    provider= 'nominatim',\n",
        "    user_agent = 'dowlings',\n",
        "    timeout = 10\n",
        "\n",
        ")\n",
        "\n",
        "geocoded_address"
      ]
    },
    {
      "cell_type": "code",
      "execution_count": 33,
      "metadata": {},
      "outputs": [
        {
          "data": {
            "text/html": [
              "<div>\n",
              "<style scoped>\n",
              "    .dataframe tbody tr th:only-of-type {\n",
              "        vertical-align: middle;\n",
              "    }\n",
              "\n",
              "    .dataframe tbody tr th {\n",
              "        vertical-align: top;\n",
              "    }\n",
              "\n",
              "    .dataframe thead th {\n",
              "        text-align: right;\n",
              "    }\n",
              "</style>\n",
              "<table border=\"1\" class=\"dataframe\">\n",
              "  <thead>\n",
              "    <tr style=\"text-align: right;\">\n",
              "      <th></th>\n",
              "      <th>geometry</th>\n",
              "      <th>address</th>\n",
              "      <th>ID</th>\n",
              "      <th>NAME</th>\n",
              "      <th>ADDRESS</th>\n",
              "    </tr>\n",
              "  </thead>\n",
              "  <tbody>\n",
              "    <tr>\n",
              "      <th>0</th>\n",
              "      <td>POINT (25.07908 60.21027)</td>\n",
              "      <td>Huoneistokeskus, 1-7, Itäkatu, Itäkeskus, Vart...</td>\n",
              "      <td>100</td>\n",
              "      <td>Itis'</td>\n",
              "      <td>Itäkatu 1-7 00930 Helsinki Finland'</td>\n",
              "    </tr>\n",
              "    <tr>\n",
              "      <th>1</th>\n",
              "      <td>POINT (24.93801 60.16937)</td>\n",
              "      <td>Carlings, 20, Mannerheimintie, Keskusta, Kluuv...</td>\n",
              "      <td>200</td>\n",
              "      <td>Forum'</td>\n",
              "      <td>Mannerheimintie 20 00100 Helsinki'</td>\n",
              "    </tr>\n",
              "    <tr>\n",
              "      <th>2</th>\n",
              "      <td>POINT EMPTY</td>\n",
              "      <td>None</td>\n",
              "      <td>300</td>\n",
              "      <td>Iso-Omena'</td>\n",
              "      <td>Piispansilta 11 FIN-02230 ESPOO'</td>\n",
              "    </tr>\n",
              "    <tr>\n",
              "      <th>3</th>\n",
              "      <td>POINT (24.81150 60.21812)</td>\n",
              "      <td>Bik Bok, 3-9, Leppävaarankatu, Säteri, Etelä-L...</td>\n",
              "      <td>400</td>\n",
              "      <td>Sello'</td>\n",
              "      <td>Leppävaarankatu 3-9 02600 Espoo Finland'</td>\n",
              "    </tr>\n",
              "    <tr>\n",
              "      <th>4</th>\n",
              "      <td>POINT (24.96282 60.29245)</td>\n",
              "      <td>Stockmann, 3, Vantaanportinkatu, Vantaanportti...</td>\n",
              "      <td>500</td>\n",
              "      <td>Jumbo'</td>\n",
              "      <td>Vantaanportinkatu 3 01510 Vantaa Finland'</td>\n",
              "    </tr>\n",
              "    <tr>\n",
              "      <th>5</th>\n",
              "      <td>POINT (24.97999 60.18670)</td>\n",
              "      <td>JYSK, 5, Hermannin rantatie, Verkkosaari, Kala...</td>\n",
              "      <td>600</td>\n",
              "      <td>REDI'</td>\n",
              "      <td>Hermannin rantatie 5 00580 Helsinki Finland'</td>\n",
              "    </tr>\n",
              "    <tr>\n",
              "      <th>6</th>\n",
              "      <td>POINT (24.93136 60.19821)</td>\n",
              "      <td>Original Sokos Hotel Tripla, 1, Fredikanterass...</td>\n",
              "      <td>700</td>\n",
              "      <td>Tripla'</td>\n",
              "      <td>Fredikanterassi 1 00520 Helsinki Finland'</td>\n",
              "    </tr>\n",
              "  </tbody>\n",
              "</table>\n",
              "</div>"
            ],
            "text/plain": [
              "                    geometry  \\\n",
              "0  POINT (25.07908 60.21027)   \n",
              "1  POINT (24.93801 60.16937)   \n",
              "2                POINT EMPTY   \n",
              "3  POINT (24.81150 60.21812)   \n",
              "4  POINT (24.96282 60.29245)   \n",
              "5  POINT (24.97999 60.18670)   \n",
              "6  POINT (24.93136 60.19821)   \n",
              "\n",
              "                                             address   ID        NAME  \\\n",
              "0  Huoneistokeskus, 1-7, Itäkatu, Itäkeskus, Vart...  100       Itis'   \n",
              "1  Carlings, 20, Mannerheimintie, Keskusta, Kluuv...  200      Forum'   \n",
              "2                                               None  300  Iso-Omena'   \n",
              "3  Bik Bok, 3-9, Leppävaarankatu, Säteri, Etelä-L...  400      Sello'   \n",
              "4  Stockmann, 3, Vantaanportinkatu, Vantaanportti...  500      Jumbo'   \n",
              "5  JYSK, 5, Hermannin rantatie, Verkkosaari, Kala...  600       REDI'   \n",
              "6  Original Sokos Hotel Tripla, 1, Fredikanterass...  700     Tripla'   \n",
              "\n",
              "                                        ADDRESS  \n",
              "0           Itäkatu 1-7 00930 Helsinki Finland'  \n",
              "1            Mannerheimintie 20 00100 Helsinki'  \n",
              "2              Piispansilta 11 FIN-02230 ESPOO'  \n",
              "3      Leppävaarankatu 3-9 02600 Espoo Finland'  \n",
              "4     Vantaanportinkatu 3 01510 Vantaa Finland'  \n",
              "5  Hermannin rantatie 5 00580 Helsinki Finland'  \n",
              "6     Fredikanterassi 1 00520 Helsinki Finland'  "
            ]
          },
          "execution_count": 33,
          "metadata": {},
          "output_type": "execute_result"
        }
      ],
      "source": [
        "# joining initial data with geocoded address stored in a geopandas df\n",
        "\n",
        "shopping_centres = geocoded_address.join(shopping_centres)\n",
        "shopping_centres"
      ]
    },
    {
      "cell_type": "code",
      "execution_count": 34,
      "metadata": {},
      "outputs": [
        {
          "data": {
            "text/html": [
              "<div>\n",
              "<style scoped>\n",
              "    .dataframe tbody tr th:only-of-type {\n",
              "        vertical-align: middle;\n",
              "    }\n",
              "\n",
              "    .dataframe tbody tr th {\n",
              "        vertical-align: top;\n",
              "    }\n",
              "\n",
              "    .dataframe thead th {\n",
              "        text-align: right;\n",
              "    }\n",
              "</style>\n",
              "<table border=\"1\" class=\"dataframe\">\n",
              "  <thead>\n",
              "    <tr style=\"text-align: right;\">\n",
              "      <th></th>\n",
              "      <th>geometry</th>\n",
              "      <th>address</th>\n",
              "      <th>ID</th>\n",
              "      <th>NAME</th>\n",
              "      <th>ADDR</th>\n",
              "    </tr>\n",
              "  </thead>\n",
              "  <tbody>\n",
              "    <tr>\n",
              "      <th>0</th>\n",
              "      <td>POINT (25.07908 60.21027)</td>\n",
              "      <td>Huoneistokeskus, 1-7, Itäkatu, Itäkeskus, Vart...</td>\n",
              "      <td>100</td>\n",
              "      <td>Itis'</td>\n",
              "      <td>Itäkatu 1-7 00930 Helsinki Finland'</td>\n",
              "    </tr>\n",
              "    <tr>\n",
              "      <th>1</th>\n",
              "      <td>POINT (24.93801 60.16937)</td>\n",
              "      <td>Carlings, 20, Mannerheimintie, Keskusta, Kluuv...</td>\n",
              "      <td>200</td>\n",
              "      <td>Forum'</td>\n",
              "      <td>Mannerheimintie 20 00100 Helsinki'</td>\n",
              "    </tr>\n",
              "    <tr>\n",
              "      <th>2</th>\n",
              "      <td>POINT EMPTY</td>\n",
              "      <td>None</td>\n",
              "      <td>300</td>\n",
              "      <td>Iso-Omena'</td>\n",
              "      <td>Piispansilta 11 FIN-02230 ESPOO'</td>\n",
              "    </tr>\n",
              "    <tr>\n",
              "      <th>3</th>\n",
              "      <td>POINT (24.81150 60.21812)</td>\n",
              "      <td>Bik Bok, 3-9, Leppävaarankatu, Säteri, Etelä-L...</td>\n",
              "      <td>400</td>\n",
              "      <td>Sello'</td>\n",
              "      <td>Leppävaarankatu 3-9 02600 Espoo Finland'</td>\n",
              "    </tr>\n",
              "    <tr>\n",
              "      <th>4</th>\n",
              "      <td>POINT (24.96282 60.29245)</td>\n",
              "      <td>Stockmann, 3, Vantaanportinkatu, Vantaanportti...</td>\n",
              "      <td>500</td>\n",
              "      <td>Jumbo'</td>\n",
              "      <td>Vantaanportinkatu 3 01510 Vantaa Finland'</td>\n",
              "    </tr>\n",
              "    <tr>\n",
              "      <th>5</th>\n",
              "      <td>POINT (24.97999 60.18670)</td>\n",
              "      <td>JYSK, 5, Hermannin rantatie, Verkkosaari, Kala...</td>\n",
              "      <td>600</td>\n",
              "      <td>REDI'</td>\n",
              "      <td>Hermannin rantatie 5 00580 Helsinki Finland'</td>\n",
              "    </tr>\n",
              "    <tr>\n",
              "      <th>6</th>\n",
              "      <td>POINT (24.93136 60.19821)</td>\n",
              "      <td>Original Sokos Hotel Tripla, 1, Fredikanterass...</td>\n",
              "      <td>700</td>\n",
              "      <td>Tripla'</td>\n",
              "      <td>Fredikanterassi 1 00520 Helsinki Finland'</td>\n",
              "    </tr>\n",
              "  </tbody>\n",
              "</table>\n",
              "</div>"
            ],
            "text/plain": [
              "                    geometry  \\\n",
              "0  POINT (25.07908 60.21027)   \n",
              "1  POINT (24.93801 60.16937)   \n",
              "2                POINT EMPTY   \n",
              "3  POINT (24.81150 60.21812)   \n",
              "4  POINT (24.96282 60.29245)   \n",
              "5  POINT (24.97999 60.18670)   \n",
              "6  POINT (24.93136 60.19821)   \n",
              "\n",
              "                                             address   ID        NAME  \\\n",
              "0  Huoneistokeskus, 1-7, Itäkatu, Itäkeskus, Vart...  100       Itis'   \n",
              "1  Carlings, 20, Mannerheimintie, Keskusta, Kluuv...  200      Forum'   \n",
              "2                                               None  300  Iso-Omena'   \n",
              "3  Bik Bok, 3-9, Leppävaarankatu, Säteri, Etelä-L...  400      Sello'   \n",
              "4  Stockmann, 3, Vantaanportinkatu, Vantaanportti...  500      Jumbo'   \n",
              "5  JYSK, 5, Hermannin rantatie, Verkkosaari, Kala...  600       REDI'   \n",
              "6  Original Sokos Hotel Tripla, 1, Fredikanterass...  700     Tripla'   \n",
              "\n",
              "                                           ADDR  \n",
              "0           Itäkatu 1-7 00930 Helsinki Finland'  \n",
              "1            Mannerheimintie 20 00100 Helsinki'  \n",
              "2              Piispansilta 11 FIN-02230 ESPOO'  \n",
              "3      Leppävaarankatu 3-9 02600 Espoo Finland'  \n",
              "4     Vantaanportinkatu 3 01510 Vantaa Finland'  \n",
              "5  Hermannin rantatie 5 00580 Helsinki Finland'  \n",
              "6     Fredikanterassi 1 00520 Helsinki Finland'  "
            ]
          },
          "execution_count": 34,
          "metadata": {},
          "output_type": "execute_result"
        }
      ],
      "source": [
        "# there is a duplicate column name 'address' in the gdf which will run an error later when writing it to a new file, hence one as to be renamed\n",
        "\n",
        "# renames the initials address column to a different name\n",
        "\n",
        "shopping_centres.rename(columns={'ADDRESS': 'ADDR'}, inplace= True)\n",
        "shopping_centres\n"
      ]
    },
    {
      "cell_type": "code",
      "execution_count": 35,
      "metadata": {},
      "outputs": [
        {
          "data": {
            "text/plain": [
              "<Geographic 2D CRS: EPSG:4326>\n",
              "Name: WGS 84\n",
              "Axis Info [ellipsoidal]:\n",
              "- Lat[north]: Geodetic latitude (degree)\n",
              "- Lon[east]: Geodetic longitude (degree)\n",
              "Area of Use:\n",
              "- name: World.\n",
              "- bounds: (-180.0, -90.0, 180.0, 90.0)\n",
              "Datum: World Geodetic System 1984 ensemble\n",
              "- Ellipsoid: WGS 84\n",
              "- Prime Meridian: Greenwich"
            ]
          },
          "execution_count": 35,
          "metadata": {},
          "output_type": "execute_result"
        }
      ],
      "source": [
        "# checking the crs of the geocoded result and reprojecting it to  ETRS GK-25 (EPSG:3879)\n",
        "\n",
        "crs = geocoded_address.crs\n",
        "crs"
      ]
    },
    {
      "cell_type": "code",
      "execution_count": 36,
      "metadata": {},
      "outputs": [],
      "source": [
        "# reprojecting crs\n",
        "\n",
        "reproject = geocoded_address.to_crs('EPSG:3879', inplace =True)\n",
        "reproject"
      ]
    },
    {
      "cell_type": "code",
      "execution_count": 48,
      "metadata": {},
      "outputs": [
        {
          "data": {
            "text/plain": [
              "<Projected CRS: EPSG:3879>\n",
              "Name: ETRS89 / GK25FIN\n",
              "Axis Info [cartesian]:\n",
              "- N[north]: Northing (metre)\n",
              "- E[east]: Easting (metre)\n",
              "Area of Use:\n",
              "- name: Finland - nominally onshore between 24°30'E and 25°30'E but may be used in adjacent areas if a municipality chooses to use one zone over its whole extent.\n",
              "- bounds: (24.5, 59.94, 25.5, 68.9)\n",
              "Coordinate Operation:\n",
              "- name: Finland Gauss-Kruger zone 25\n",
              "- method: Transverse Mercator\n",
              "Datum: European Terrestrial Reference System 1989 ensemble\n",
              "- Ellipsoid: GRS 1980\n",
              "- Prime Meridian: Greenwich"
            ]
          },
          "execution_count": 48,
          "metadata": {},
          "output_type": "execute_result"
        }
      ],
      "source": [
        "geocoded_address.crs"
      ]
    },
    {
      "cell_type": "code",
      "execution_count": null,
      "metadata": {},
      "outputs": [],
      "source": []
    },
    {
      "cell_type": "code",
      "execution_count": 50,
      "metadata": {},
      "outputs": [
        {
          "data": {
            "text/plain": [
              "4.0"
            ]
          },
          "execution_count": 50,
          "metadata": {},
          "output_type": "execute_result"
        }
      ],
      "source": [
        "4. # Save shopping_centres as a GeoPackage named shopping_centres.gpkg:"
      ]
    },
    {
      "cell_type": "code",
      "execution_count": 52,
      "metadata": {},
      "outputs": [
        {
          "ename": "ImportError",
          "evalue": "The 'to_file' method requires the 'pyogrio' or 'fiona' package, but neither is installed or imports correctly.\nImporting fiona resulted in: DLL load failed while importing _env: The specified module could not be found.\nImporting pyogrio resulted in: No module named 'pyogrio'",
          "output_type": "error",
          "traceback": [
            "\u001b[1;31m---------------------------------------------------------------------------\u001b[0m",
            "\u001b[1;31mImportError\u001b[0m                               Traceback (most recent call last)",
            "\u001b[1;32mc:\\Users\\acer\\Documents\\projects\\learning_gis\\Exercises\\Exercise con.ipynb Cell 15\u001b[0m line \u001b[0;36m1\n\u001b[1;32m----> <a href='vscode-notebook-cell:/c%3A/Users/acer/Documents/projects/learning_gis/Exercises/Exercise%20con.ipynb#X20sZmlsZQ%3D%3D?line=0'>1</a>\u001b[0m write \u001b[39m=\u001b[39m shopping_centres\u001b[39m.\u001b[39;49mto_file(\u001b[39mr\u001b[39;49m\u001b[39m'\u001b[39;49m\u001b[39mC:\u001b[39;49m\u001b[39m\\\u001b[39;49m\u001b[39mUsers\u001b[39;49m\u001b[39m\\\u001b[39;49m\u001b[39macer\u001b[39;49m\u001b[39m\\\u001b[39;49m\u001b[39mDocuments\u001b[39;49m\u001b[39m\\\u001b[39;49m\u001b[39mprojects\u001b[39;49m\u001b[39m\\\u001b[39;49m\u001b[39mlearning_gis\u001b[39;49m\u001b[39m\\\u001b[39;49m\u001b[39mExercises\u001b[39;49m\u001b[39m\\\u001b[39;49m\u001b[39mshopping_centres.gpkg\u001b[39;49m\u001b[39m'\u001b[39;49m)\n\u001b[0;32m      <a href='vscode-notebook-cell:/c%3A/Users/acer/Documents/projects/learning_gis/Exercises/Exercise%20con.ipynb#X20sZmlsZQ%3D%3D?line=2'>3</a>\u001b[0m write\n",
            "File \u001b[1;32m~\\AppData\\Roaming\\Python\\Python311\\site-packages\\geopandas\\geodataframe.py:1264\u001b[0m, in \u001b[0;36mGeoDataFrame.to_file\u001b[1;34m(self, filename, driver, schema, index, **kwargs)\u001b[0m\n\u001b[0;32m   1173\u001b[0m \u001b[39m\u001b[39m\u001b[39m\"\"\"Write the ``GeoDataFrame`` to a file.\u001b[39;00m\n\u001b[0;32m   1174\u001b[0m \n\u001b[0;32m   1175\u001b[0m \u001b[39mBy default, an ESRI shapefile is written, but any OGR data source\u001b[39;00m\n\u001b[1;32m   (...)\u001b[0m\n\u001b[0;32m   1260\u001b[0m \n\u001b[0;32m   1261\u001b[0m \u001b[39m\"\"\"\u001b[39;00m\n\u001b[0;32m   1262\u001b[0m \u001b[39mfrom\u001b[39;00m \u001b[39mgeopandas\u001b[39;00m\u001b[39m.\u001b[39;00m\u001b[39mio\u001b[39;00m\u001b[39m.\u001b[39;00m\u001b[39mfile\u001b[39;00m \u001b[39mimport\u001b[39;00m _to_file\n\u001b[1;32m-> 1264\u001b[0m _to_file(\u001b[39mself\u001b[39;49m, filename, driver, schema, index, \u001b[39m*\u001b[39;49m\u001b[39m*\u001b[39;49mkwargs)\n",
            "File \u001b[1;32m~\\AppData\\Roaming\\Python\\Python311\\site-packages\\geopandas\\io\\file.py:574\u001b[0m, in \u001b[0;36m_to_file\u001b[1;34m(df, filename, driver, schema, index, mode, crs, engine, **kwargs)\u001b[0m\n\u001b[0;32m    487\u001b[0m \u001b[39mdef\u001b[39;00m \u001b[39m_to_file\u001b[39m(\n\u001b[0;32m    488\u001b[0m     df,\n\u001b[0;32m    489\u001b[0m     filename,\n\u001b[1;32m   (...)\u001b[0m\n\u001b[0;32m    496\u001b[0m     \u001b[39m*\u001b[39m\u001b[39m*\u001b[39mkwargs,\n\u001b[0;32m    497\u001b[0m ):\n\u001b[0;32m    498\u001b[0m \u001b[39m    \u001b[39m\u001b[39m\"\"\"\u001b[39;00m\n\u001b[0;32m    499\u001b[0m \u001b[39m    Write this GeoDataFrame to an OGR data source\u001b[39;00m\n\u001b[0;32m    500\u001b[0m \n\u001b[1;32m   (...)\u001b[0m\n\u001b[0;32m    572\u001b[0m \u001b[39m    by using the encoding keyword parameter, e.g. ``encoding='utf-8'``.\u001b[39;00m\n\u001b[0;32m    573\u001b[0m \u001b[39m    \"\"\"\u001b[39;00m\n\u001b[1;32m--> 574\u001b[0m     engine \u001b[39m=\u001b[39m _check_engine(engine, \u001b[39m\"\u001b[39;49m\u001b[39m'\u001b[39;49m\u001b[39mto_file\u001b[39;49m\u001b[39m'\u001b[39;49m\u001b[39m method\u001b[39;49m\u001b[39m\"\u001b[39;49m)\n\u001b[0;32m    576\u001b[0m     filename \u001b[39m=\u001b[39m _expand_user(filename)\n\u001b[0;32m    578\u001b[0m     \u001b[39mif\u001b[39;00m index \u001b[39mis\u001b[39;00m \u001b[39mNone\u001b[39;00m:\n\u001b[0;32m    579\u001b[0m         \u001b[39m# Determine if index attribute(s) should be saved to file\u001b[39;00m\n\u001b[0;32m    580\u001b[0m         \u001b[39m# (only if they are named or are non-integer)\u001b[39;00m\n",
            "File \u001b[1;32m~\\AppData\\Roaming\\Python\\Python311\\site-packages\\geopandas\\io\\file.py:120\u001b[0m, in \u001b[0;36m_check_engine\u001b[1;34m(engine, func)\u001b[0m\n\u001b[0;32m    118\u001b[0m     _check_pyogrio(func)\n\u001b[0;32m    119\u001b[0m \u001b[39melif\u001b[39;00m engine \u001b[39mis\u001b[39;00m \u001b[39mNone\u001b[39;00m:\n\u001b[1;32m--> 120\u001b[0m     \u001b[39mraise\u001b[39;00m \u001b[39mImportError\u001b[39;00m(\n\u001b[0;32m    121\u001b[0m         \u001b[39mf\u001b[39m\u001b[39m\"\u001b[39m\u001b[39mThe \u001b[39m\u001b[39m{\u001b[39;00mfunc\u001b[39m}\u001b[39;00m\u001b[39m requires the \u001b[39m\u001b[39m'\u001b[39m\u001b[39mpyogrio\u001b[39m\u001b[39m'\u001b[39m\u001b[39m or \u001b[39m\u001b[39m'\u001b[39m\u001b[39mfiona\u001b[39m\u001b[39m'\u001b[39m\u001b[39m package, \u001b[39m\u001b[39m\"\u001b[39m\n\u001b[0;32m    122\u001b[0m         \u001b[39m\"\u001b[39m\u001b[39mbut neither is installed or imports correctly.\u001b[39m\u001b[39m\"\u001b[39m\n\u001b[0;32m    123\u001b[0m         \u001b[39mf\u001b[39m\u001b[39m\"\u001b[39m\u001b[39m\\n\u001b[39;00m\u001b[39mImporting fiona resulted in: \u001b[39m\u001b[39m{\u001b[39;00mfiona_import_error\u001b[39m}\u001b[39;00m\u001b[39m\"\u001b[39m\n\u001b[0;32m    124\u001b[0m         \u001b[39mf\u001b[39m\u001b[39m\"\u001b[39m\u001b[39m\\n\u001b[39;00m\u001b[39mImporting pyogrio resulted in: \u001b[39m\u001b[39m{\u001b[39;00mpyogrio_import_error\u001b[39m}\u001b[39;00m\u001b[39m\"\u001b[39m\n\u001b[0;32m    125\u001b[0m     )\n\u001b[0;32m    127\u001b[0m \u001b[39mreturn\u001b[39;00m engine\n",
            "\u001b[1;31mImportError\u001b[0m: The 'to_file' method requires the 'pyogrio' or 'fiona' package, but neither is installed or imports correctly.\nImporting fiona resulted in: DLL load failed while importing _env: The specified module could not be found.\nImporting pyogrio resulted in: No module named 'pyogrio'"
          ]
        }
      ],
      "source": [
        "write = shopping_centres.to_file(r'C:\\Users\\acer\\Documents\\projects\\learning_gis\\Exercises\\shopping_centres.gpkg')\n",
        "\n",
        "write"
      ]
    },
    {
      "cell_type": "code",
      "execution_count": null,
      "metadata": {},
      "outputs": [],
      "source": []
    },
    {
      "cell_type": "code",
      "execution_count": null,
      "metadata": {},
      "outputs": [],
      "source": [
        "'''SECOND PART OF EXERCISE: Create buffers around shopping centers '''"
      ]
    },
    {
      "cell_type": "code",
      "execution_count": null,
      "metadata": {},
      "outputs": [],
      "source": [
        "5. # First, load the shopping centre point data set you created in problem 1 into a GeoDataFrame called shopping_centres."
      ]
    },
    {
      "cell_type": "code",
      "execution_count": null,
      "metadata": {},
      "outputs": [],
      "source": []
    },
    {
      "cell_type": "code",
      "execution_count": null,
      "metadata": {},
      "outputs": [
        {
          "data": {
            "text/html": [
              "<div>\n",
              "<style scoped>\n",
              "    .dataframe tbody tr th:only-of-type {\n",
              "        vertical-align: middle;\n",
              "    }\n",
              "\n",
              "    .dataframe tbody tr th {\n",
              "        vertical-align: top;\n",
              "    }\n",
              "\n",
              "    .dataframe thead th {\n",
              "        text-align: right;\n",
              "    }\n",
              "</style>\n",
              "<table border=\"1\" class=\"dataframe\">\n",
              "  <thead>\n",
              "    <tr style=\"text-align: right;\">\n",
              "      <th></th>\n",
              "      <th>address</th>\n",
              "      <th>ID</th>\n",
              "      <th>NAME</th>\n",
              "      <th>ADDR</th>\n",
              "      <th>geometry</th>\n",
              "    </tr>\n",
              "  </thead>\n",
              "  <tbody>\n",
              "    <tr>\n",
              "      <th>0</th>\n",
              "      <td>Huoneistokeskus, 1-7, Itäkatu, Itäkeskus, Vart...</td>\n",
              "      <td>100</td>\n",
              "      <td>Itis'</td>\n",
              "      <td>Itäkatu 1-7 00930 Helsinki Finland'</td>\n",
              "      <td>POINT (25504384.737 6677502.772)</td>\n",
              "    </tr>\n",
              "    <tr>\n",
              "      <th>1</th>\n",
              "      <td>Carlings, 20, Mannerheimintie, Keskusta, Kluuv...</td>\n",
              "      <td>200</td>\n",
              "      <td>Forum'</td>\n",
              "      <td>Mannerheimintie 20 00100 Helsinki'</td>\n",
              "      <td>POINT (25496558.626 6672944.388)</td>\n",
              "    </tr>\n",
              "    <tr>\n",
              "      <th>2</th>\n",
              "      <td>NaN</td>\n",
              "      <td>300</td>\n",
              "      <td>Iso-Omena'</td>\n",
              "      <td>Piispansilta 11 FIN-02230 ESPOO'</td>\n",
              "      <td>None</td>\n",
              "    </tr>\n",
              "    <tr>\n",
              "      <th>3</th>\n",
              "      <td>Bik Bok, 3-9, Leppävaarankatu, Säteri, Etelä-L...</td>\n",
              "      <td>400</td>\n",
              "      <td>Sello'</td>\n",
              "      <td>Leppävaarankatu 3-9 02600 Espoo Finland'</td>\n",
              "      <td>POINT (25489551.290 6678388.954)</td>\n",
              "    </tr>\n",
              "    <tr>\n",
              "      <th>4</th>\n",
              "      <td>Stockmann, 3, Vantaanportinkatu, Vantaanportti...</td>\n",
              "      <td>500</td>\n",
              "      <td>Jumbo'</td>\n",
              "      <td>Vantaanportinkatu 3 01510 Vantaa Finland'</td>\n",
              "      <td>POINT (25497943.932 6686656.982)</td>\n",
              "    </tr>\n",
              "    <tr>\n",
              "      <th>5</th>\n",
              "      <td>Kalasataman apteekki, 5, Hermannin rantatie, S...</td>\n",
              "      <td>600</td>\n",
              "      <td>REDI'</td>\n",
              "      <td>Hermannin rantatie 5 00580 Helsinki Finland'</td>\n",
              "      <td>POINT (25498810.387 6674866.807)</td>\n",
              "    </tr>\n",
              "    <tr>\n",
              "      <th>6</th>\n",
              "      <td>Original Sokos Hotel Tripla, 1, Fredikanterass...</td>\n",
              "      <td>700</td>\n",
              "      <td>Tripla'</td>\n",
              "      <td>Fredikanterassi 1 00520 Helsinki Finland'</td>\n",
              "      <td>POINT (25496192.733 6676158.022)</td>\n",
              "    </tr>\n",
              "  </tbody>\n",
              "</table>\n",
              "</div>"
            ],
            "text/plain": [
              "                                             address   ID        NAME  \\\n",
              "0  Huoneistokeskus, 1-7, Itäkatu, Itäkeskus, Vart...  100       Itis'   \n",
              "1  Carlings, 20, Mannerheimintie, Keskusta, Kluuv...  200      Forum'   \n",
              "2                                                NaN  300  Iso-Omena'   \n",
              "3  Bik Bok, 3-9, Leppävaarankatu, Säteri, Etelä-L...  400      Sello'   \n",
              "4  Stockmann, 3, Vantaanportinkatu, Vantaanportti...  500      Jumbo'   \n",
              "5  Kalasataman apteekki, 5, Hermannin rantatie, S...  600       REDI'   \n",
              "6  Original Sokos Hotel Tripla, 1, Fredikanterass...  700     Tripla'   \n",
              "\n",
              "                                           ADDR  \\\n",
              "0           Itäkatu 1-7 00930 Helsinki Finland'   \n",
              "1            Mannerheimintie 20 00100 Helsinki'   \n",
              "2              Piispansilta 11 FIN-02230 ESPOO'   \n",
              "3      Leppävaarankatu 3-9 02600 Espoo Finland'   \n",
              "4     Vantaanportinkatu 3 01510 Vantaa Finland'   \n",
              "5  Hermannin rantatie 5 00580 Helsinki Finland'   \n",
              "6     Fredikanterassi 1 00520 Helsinki Finland'   \n",
              "\n",
              "                           geometry  \n",
              "0  POINT (25504384.737 6677502.772)  \n",
              "1  POINT (25496558.626 6672944.388)  \n",
              "2                              None  \n",
              "3  POINT (25489551.290 6678388.954)  \n",
              "4  POINT (25497943.932 6686656.982)  \n",
              "5  POINT (25498810.387 6674866.807)  \n",
              "6  POINT (25496192.733 6676158.022)  "
            ]
          },
          "execution_count": 10,
          "metadata": {},
          "output_type": "execute_result"
        }
      ],
      "source": [
        "import geopandas as gpd\n",
        "\n",
        "shopping_centres = gpd.read_file(r'C:\\Users\\acer\\Documents\\projects\\learning_gis\\Exercises\\shopping_centres.gpkg')\n",
        "\n",
        "# crs is EPSG 4326 AND HAS TO BE REPROJECTED\n",
        "shopping_centres.to_crs('EPSG:3879', inplace = True)\n",
        "shopping_centres"
      ]
    },
    {
      "cell_type": "code",
      "execution_count": null,
      "metadata": {},
      "outputs": [
        {
          "data": {
            "text/plain": [
              "<Projected CRS: EPSG:3879>\n",
              "Name: ETRS89 / GK25FIN\n",
              "Axis Info [cartesian]:\n",
              "- N[north]: Northing (metre)\n",
              "- E[east]: Easting (metre)\n",
              "Area of Use:\n",
              "- name: Finland - nominally onshore between 24°30'E and 25°30'E but may be used in adjacent areas if a municipality chooses to use one zone over its whole extent.\n",
              "- bounds: (24.5, 59.94, 25.5, 68.9)\n",
              "Coordinate Operation:\n",
              "- name: Finland Gauss-Kruger zone 25\n",
              "- method: Transverse Mercator\n",
              "Datum: European Terrestrial Reference System 1989 ensemble\n",
              "- Ellipsoid: GRS 1980\n",
              "- Prime Meridian: Greenwich"
            ]
          },
          "execution_count": 11,
          "metadata": {},
          "output_type": "execute_result"
        }
      ],
      "source": [
        "# reprojected crs\n",
        "shopping_centres.crs"
      ]
    },
    {
      "cell_type": "code",
      "execution_count": null,
      "metadata": {},
      "outputs": [],
      "source": []
    },
    {
      "cell_type": "code",
      "execution_count": null,
      "metadata": {},
      "outputs": [],
      "source": [
        "6. # Calculate a 1.5 km buffer for each geocoded point. Overwrite the geometry column with the new buffer geometry. Use the geopandas.GeoDataFrame.buffer() \n",
        "# method, that uses shapely’s buffer() in the background. You only need to care about the distance parameter, don’t worry about the possible other \n",
        "# arguments."
      ]
    },
    {
      "cell_type": "code",
      "execution_count": null,
      "metadata": {},
      "outputs": [
        {
          "data": {
            "text/html": [
              "<div>\n",
              "<style scoped>\n",
              "    .dataframe tbody tr th:only-of-type {\n",
              "        vertical-align: middle;\n",
              "    }\n",
              "\n",
              "    .dataframe tbody tr th {\n",
              "        vertical-align: top;\n",
              "    }\n",
              "\n",
              "    .dataframe thead th {\n",
              "        text-align: right;\n",
              "    }\n",
              "</style>\n",
              "<table border=\"1\" class=\"dataframe\">\n",
              "  <thead>\n",
              "    <tr style=\"text-align: right;\">\n",
              "      <th></th>\n",
              "      <th>address</th>\n",
              "      <th>ID</th>\n",
              "      <th>NAME</th>\n",
              "      <th>ADDR</th>\n",
              "      <th>geometry</th>\n",
              "    </tr>\n",
              "  </thead>\n",
              "  <tbody>\n",
              "    <tr>\n",
              "      <th>0</th>\n",
              "      <td>Huoneistokeskus, 1-7, Itäkatu, Itäkeskus, Vart...</td>\n",
              "      <td>100</td>\n",
              "      <td>Itis'</td>\n",
              "      <td>Itäkatu 1-7 00930 Helsinki Finland'</td>\n",
              "      <td>POLYGON ((25505884.737 6677502.772, 25505877.5...</td>\n",
              "    </tr>\n",
              "    <tr>\n",
              "      <th>1</th>\n",
              "      <td>Carlings, 20, Mannerheimintie, Keskusta, Kluuv...</td>\n",
              "      <td>200</td>\n",
              "      <td>Forum'</td>\n",
              "      <td>Mannerheimintie 20 00100 Helsinki'</td>\n",
              "      <td>POLYGON ((25498058.626 6672944.388, 25498051.4...</td>\n",
              "    </tr>\n",
              "    <tr>\n",
              "      <th>2</th>\n",
              "      <td>NaN</td>\n",
              "      <td>300</td>\n",
              "      <td>Iso-Omena'</td>\n",
              "      <td>Piispansilta 11 FIN-02230 ESPOO'</td>\n",
              "      <td>None</td>\n",
              "    </tr>\n",
              "    <tr>\n",
              "      <th>3</th>\n",
              "      <td>Bik Bok, 3-9, Leppävaarankatu, Säteri, Etelä-L...</td>\n",
              "      <td>400</td>\n",
              "      <td>Sello'</td>\n",
              "      <td>Leppävaarankatu 3-9 02600 Espoo Finland'</td>\n",
              "      <td>POLYGON ((25491051.290 6678388.954, 25491044.0...</td>\n",
              "    </tr>\n",
              "    <tr>\n",
              "      <th>4</th>\n",
              "      <td>Stockmann, 3, Vantaanportinkatu, Vantaanportti...</td>\n",
              "      <td>500</td>\n",
              "      <td>Jumbo'</td>\n",
              "      <td>Vantaanportinkatu 3 01510 Vantaa Finland'</td>\n",
              "      <td>POLYGON ((25499443.932 6686656.982, 25499436.7...</td>\n",
              "    </tr>\n",
              "    <tr>\n",
              "      <th>5</th>\n",
              "      <td>Kalasataman apteekki, 5, Hermannin rantatie, S...</td>\n",
              "      <td>600</td>\n",
              "      <td>REDI'</td>\n",
              "      <td>Hermannin rantatie 5 00580 Helsinki Finland'</td>\n",
              "      <td>POLYGON ((25500310.387 6674866.807, 25500303.1...</td>\n",
              "    </tr>\n",
              "    <tr>\n",
              "      <th>6</th>\n",
              "      <td>Original Sokos Hotel Tripla, 1, Fredikanterass...</td>\n",
              "      <td>700</td>\n",
              "      <td>Tripla'</td>\n",
              "      <td>Fredikanterassi 1 00520 Helsinki Finland'</td>\n",
              "      <td>POLYGON ((25497692.733 6676158.022, 25497685.5...</td>\n",
              "    </tr>\n",
              "  </tbody>\n",
              "</table>\n",
              "</div>"
            ],
            "text/plain": [
              "                                             address   ID        NAME  \\\n",
              "0  Huoneistokeskus, 1-7, Itäkatu, Itäkeskus, Vart...  100       Itis'   \n",
              "1  Carlings, 20, Mannerheimintie, Keskusta, Kluuv...  200      Forum'   \n",
              "2                                                NaN  300  Iso-Omena'   \n",
              "3  Bik Bok, 3-9, Leppävaarankatu, Säteri, Etelä-L...  400      Sello'   \n",
              "4  Stockmann, 3, Vantaanportinkatu, Vantaanportti...  500      Jumbo'   \n",
              "5  Kalasataman apteekki, 5, Hermannin rantatie, S...  600       REDI'   \n",
              "6  Original Sokos Hotel Tripla, 1, Fredikanterass...  700     Tripla'   \n",
              "\n",
              "                                           ADDR  \\\n",
              "0           Itäkatu 1-7 00930 Helsinki Finland'   \n",
              "1            Mannerheimintie 20 00100 Helsinki'   \n",
              "2              Piispansilta 11 FIN-02230 ESPOO'   \n",
              "3      Leppävaarankatu 3-9 02600 Espoo Finland'   \n",
              "4     Vantaanportinkatu 3 01510 Vantaa Finland'   \n",
              "5  Hermannin rantatie 5 00580 Helsinki Finland'   \n",
              "6     Fredikanterassi 1 00520 Helsinki Finland'   \n",
              "\n",
              "                                            geometry  \n",
              "0  POLYGON ((25505884.737 6677502.772, 25505877.5...  \n",
              "1  POLYGON ((25498058.626 6672944.388, 25498051.4...  \n",
              "2                                               None  \n",
              "3  POLYGON ((25491051.290 6678388.954, 25491044.0...  \n",
              "4  POLYGON ((25499443.932 6686656.982, 25499436.7...  \n",
              "5  POLYGON ((25500310.387 6674866.807, 25500303.1...  \n",
              "6  POLYGON ((25497692.733 6676158.022, 25497685.5...  "
            ]
          },
          "execution_count": 12,
          "metadata": {},
          "output_type": "execute_result"
        }
      ],
      "source": [
        "# creating a 1.5km buffer aroung the points while overwriting the geometry column\n",
        "\n",
        "shopping_centres['geometry'] = shopping_centres.buffer(distance = 1500)\n",
        "\n",
        "# printing the data frame shows the overwrtten buffered geometries\n",
        "shopping_centres"
      ]
    },
    {
      "cell_type": "code",
      "execution_count": null,
      "metadata": {},
      "outputs": [],
      "source": []
    },
    {
      "cell_type": "code",
      "execution_count": null,
      "metadata": {},
      "outputs": [],
      "source": [
        "7. # Save the data frame containing the buffer geometries into a new layer buffers inside the same GeoPackage shopping_centres.gpkg"
      ]
    },
    {
      "cell_type": "code",
      "execution_count": null,
      "metadata": {},
      "outputs": [
        {
          "ename": "NameError",
          "evalue": "name 'shopping_centres' is not defined",
          "output_type": "error",
          "traceback": [
            "\u001b[1;31m---------------------------------------------------------------------------\u001b[0m",
            "\u001b[1;31mNameError\u001b[0m                                 Traceback (most recent call last)",
            "\u001b[1;32mc:\\Users\\acer\\Documents\\projects\\learning_gis\\Exercises\\Exercise con.ipynb Cell 26\u001b[0m line \u001b[0;36m1\n\u001b[1;32m----> <a href='vscode-notebook-cell:/c%3A/Users/acer/Documents/projects/learning_gis/Exercises/Exercise%20con.ipynb#X34sZmlsZQ%3D%3D?line=0'>1</a>\u001b[0m write_file \u001b[39m=\u001b[39m shopping_centres\u001b[39m.\u001b[39mto_file(\u001b[39mr\u001b[39m\u001b[39m'\u001b[39m\u001b[39mC:\u001b[39m\u001b[39m\\\u001b[39m\u001b[39mUsers\u001b[39m\u001b[39m\\\u001b[39m\u001b[39macer\u001b[39m\u001b[39m\\\u001b[39m\u001b[39mDocuments\u001b[39m\u001b[39m\\\u001b[39m\u001b[39mprojects\u001b[39m\u001b[39m\\\u001b[39m\u001b[39mlearning_gis\u001b[39m\u001b[39m\\\u001b[39m\u001b[39mExercises\u001b[39m\u001b[39m\\\u001b[39m\u001b[39mshopping_centres.gpkg\u001b[39m\u001b[39m'\u001b[39m, layer \u001b[39m=\u001b[39m \u001b[39m'\u001b[39m\u001b[39mbuffers\u001b[39m\u001b[39m'\u001b[39m, driver\u001b[39m=\u001b[39m \u001b[39m'\u001b[39m\u001b[39mGPKG\u001b[39m\u001b[39m'\u001b[39m, mode \u001b[39m=\u001b[39m \u001b[39m'\u001b[39m\u001b[39mw\u001b[39m\u001b[39m'\u001b[39m)\n\u001b[0;32m      <a href='vscode-notebook-cell:/c%3A/Users/acer/Documents/projects/learning_gis/Exercises/Exercise%20con.ipynb#X34sZmlsZQ%3D%3D?line=2'>3</a>\u001b[0m write_file\n",
            "\u001b[1;31mNameError\u001b[0m: name 'shopping_centres' is not defined"
          ]
        }
      ],
      "source": [
        "write_file = shopping_centres.to_file(r'C:\\Users\\acer\\Documents\\projects\\learning_gis\\Exercises\\shopping_centres.gpkg', layer = 'buffers', driver= 'GPKG', mode = 'w')\n",
        "\n",
        "write_file"
      ]
    },
    {
      "cell_type": "code",
      "execution_count": null,
      "metadata": {},
      "outputs": [],
      "source": []
    },
    {
      "cell_type": "code",
      "execution_count": null,
      "metadata": {},
      "outputs": [
        {
          "data": {
            "text/html": [
              "<div>\n",
              "<style scoped>\n",
              "    .dataframe tbody tr th:only-of-type {\n",
              "        vertical-align: middle;\n",
              "    }\n",
              "\n",
              "    .dataframe tbody tr th {\n",
              "        vertical-align: top;\n",
              "    }\n",
              "\n",
              "    .dataframe thead th {\n",
              "        text-align: right;\n",
              "    }\n",
              "</style>\n",
              "<table border=\"1\" class=\"dataframe\">\n",
              "  <thead>\n",
              "    <tr style=\"text-align: right;\">\n",
              "      <th></th>\n",
              "      <th>address</th>\n",
              "      <th>ID</th>\n",
              "      <th>NAME</th>\n",
              "      <th>ADDR</th>\n",
              "      <th>geometry</th>\n",
              "    </tr>\n",
              "  </thead>\n",
              "  <tbody>\n",
              "    <tr>\n",
              "      <th>0</th>\n",
              "      <td>Huoneistokeskus, 1-7, Itäkatu, Itäkeskus, Vart...</td>\n",
              "      <td>100</td>\n",
              "      <td>Itis'</td>\n",
              "      <td>Itäkatu 1-7 00930 Helsinki Finland'</td>\n",
              "      <td>POINT (25.07908 60.21027)</td>\n",
              "    </tr>\n",
              "    <tr>\n",
              "      <th>1</th>\n",
              "      <td>Carlings, 20, Mannerheimintie, Keskusta, Kluuv...</td>\n",
              "      <td>200</td>\n",
              "      <td>Forum'</td>\n",
              "      <td>Mannerheimintie 20 00100 Helsinki'</td>\n",
              "      <td>POINT (24.93801 60.16937)</td>\n",
              "    </tr>\n",
              "    <tr>\n",
              "      <th>2</th>\n",
              "      <td>NaN</td>\n",
              "      <td>300</td>\n",
              "      <td>Iso-Omena'</td>\n",
              "      <td>Piispansilta 11 FIN-02230 ESPOO'</td>\n",
              "      <td>None</td>\n",
              "    </tr>\n",
              "    <tr>\n",
              "      <th>3</th>\n",
              "      <td>Bik Bok, 3-9, Leppävaarankatu, Säteri, Etelä-L...</td>\n",
              "      <td>400</td>\n",
              "      <td>Sello'</td>\n",
              "      <td>Leppävaarankatu 3-9 02600 Espoo Finland'</td>\n",
              "      <td>POINT (24.81150 60.21812)</td>\n",
              "    </tr>\n",
              "    <tr>\n",
              "      <th>4</th>\n",
              "      <td>Stockmann, 3, Vantaanportinkatu, Vantaanportti...</td>\n",
              "      <td>500</td>\n",
              "      <td>Jumbo'</td>\n",
              "      <td>Vantaanportinkatu 3 01510 Vantaa Finland'</td>\n",
              "      <td>POINT (24.96282 60.29245)</td>\n",
              "    </tr>\n",
              "    <tr>\n",
              "      <th>5</th>\n",
              "      <td>Kalasataman apteekki, 5, Hermannin rantatie, S...</td>\n",
              "      <td>600</td>\n",
              "      <td>REDI'</td>\n",
              "      <td>Hermannin rantatie 5 00580 Helsinki Finland'</td>\n",
              "      <td>POINT (24.97856 60.18664)</td>\n",
              "    </tr>\n",
              "    <tr>\n",
              "      <th>6</th>\n",
              "      <td>Original Sokos Hotel Tripla, 1, Fredikanterass...</td>\n",
              "      <td>700</td>\n",
              "      <td>Tripla'</td>\n",
              "      <td>Fredikanterassi 1 00520 Helsinki Finland'</td>\n",
              "      <td>POINT (24.93136 60.19821)</td>\n",
              "    </tr>\n",
              "  </tbody>\n",
              "</table>\n",
              "</div>"
            ],
            "text/plain": [
              "                                             address   ID        NAME  \\\n",
              "0  Huoneistokeskus, 1-7, Itäkatu, Itäkeskus, Vart...  100       Itis'   \n",
              "1  Carlings, 20, Mannerheimintie, Keskusta, Kluuv...  200      Forum'   \n",
              "2                                                NaN  300  Iso-Omena'   \n",
              "3  Bik Bok, 3-9, Leppävaarankatu, Säteri, Etelä-L...  400      Sello'   \n",
              "4  Stockmann, 3, Vantaanportinkatu, Vantaanportti...  500      Jumbo'   \n",
              "5  Kalasataman apteekki, 5, Hermannin rantatie, S...  600       REDI'   \n",
              "6  Original Sokos Hotel Tripla, 1, Fredikanterass...  700     Tripla'   \n",
              "\n",
              "                                           ADDR                   geometry  \n",
              "0           Itäkatu 1-7 00930 Helsinki Finland'  POINT (25.07908 60.21027)  \n",
              "1            Mannerheimintie 20 00100 Helsinki'  POINT (24.93801 60.16937)  \n",
              "2              Piispansilta 11 FIN-02230 ESPOO'                       None  \n",
              "3      Leppävaarankatu 3-9 02600 Espoo Finland'  POINT (24.81150 60.21812)  \n",
              "4     Vantaanportinkatu 3 01510 Vantaa Finland'  POINT (24.96282 60.29245)  \n",
              "5  Hermannin rantatie 5 00580 Helsinki Finland'  POINT (24.97856 60.18664)  \n",
              "6     Fredikanterassi 1 00520 Helsinki Finland'  POINT (24.93136 60.19821)  "
            ]
          },
          "execution_count": 63,
          "metadata": {},
          "output_type": "execute_result"
        }
      ],
      "source": [
        "import geopandas as gpd\n",
        "\n",
        "file = gpd.read_file(r'C:\\Users\\acer\\Documents\\projects\\learning_gis\\Exercises\\shopping_centres.gpkg')\n",
        "\n",
        "file"
      ]
    },
    {
      "cell_type": "code",
      "execution_count": null,
      "metadata": {},
      "outputs": [],
      "source": []
    },
    {
      "cell_type": "code",
      "execution_count": 2,
      "metadata": {},
      "outputs": [],
      "source": []
    },
    {
      "cell_type": "code",
      "execution_count": null,
      "metadata": {},
      "outputs": [],
      "source": []
    },
    {
      "cell_type": "code",
      "execution_count": null,
      "metadata": {},
      "outputs": [],
      "source": []
    },
    {
      "cell_type": "code",
      "execution_count": null,
      "metadata": {},
      "outputs": [],
      "source": []
    },
    {
      "cell_type": "code",
      "execution_count": null,
      "metadata": {},
      "outputs": [],
      "source": []
    }
  ],
  "metadata": {
    "kernelspec": {
      "display_name": "Python 3",
      "language": "python",
      "name": "python3"
    },
    "language_info": {
      "codemirror_mode": {
        "name": "ipython",
        "version": 3
      },
      "file_extension": ".py",
      "mimetype": "text/x-python",
      "name": "python",
      "nbconvert_exporter": "python",
      "pygments_lexer": "ipython3",
      "version": "3.11.1"
    }
  },
  "nbformat": 4,
  "nbformat_minor": 4
}
